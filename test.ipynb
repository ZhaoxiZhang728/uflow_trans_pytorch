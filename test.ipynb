{
 "cells": [
  {
   "cell_type": "code",
   "execution_count": 1,
   "metadata": {
    "collapsed": true,
    "ExecuteTime": {
     "end_time": "2023-10-31T22:26:22.753963200Z",
     "start_time": "2023-10-31T22:26:21.097362100Z"
    }
   },
   "outputs": [],
   "source": [
    "from dataset.video_to_dataset import Video_dataset\n",
    "from torch.utils.data import DataLoader, random_split\n",
    "import torchvision as T"
   ]
  },
  {
   "cell_type": "code",
   "execution_count": 5,
   "outputs": [],
   "source": [
    "from torch.nn import LazyConv2d\n",
    "\n",
    "# Create an instance of LazyConv2d layer\n",
    "lazy_conv2d_layer = LazyConv2d(out_channels=64, kernel_size=3)\n",
    "\n",
    "# Freeze the LazyConv2d layer\n",
    "for param in lazy_conv2d_layer.parameters():\n",
    "    param.requires_grad = False"
   ],
   "metadata": {
    "collapsed": false,
    "ExecuteTime": {
     "end_time": "2023-10-31T22:27:30.935689700Z",
     "start_time": "2023-10-31T22:27:30.931800900Z"
    }
   }
  },
  {
   "cell_type": "code",
   "execution_count": 17,
   "outputs": [],
   "source": [
    "import torch.nn as nn"
   ],
   "metadata": {
    "collapsed": false
   }
  },
  {
   "cell_type": "code",
   "execution_count": 21,
   "outputs": [
    {
     "data": {
      "text/plain": "ModuleList(\n  (0): Identity()\n  (1): Linear(in_features=10, out_features=15, bias=True)\n  (2): Linear(in_features=15, out_features=20, bias=True)\n)"
     },
     "execution_count": 21,
     "metadata": {},
     "output_type": "execute_result"
    }
   ],
   "source": [
    "nn.ModuleList([nn.Identity(),nn.Linear(10,15),nn.Linear(15,20)])"
   ],
   "metadata": {
    "collapsed": false
   }
  },
  {
   "cell_type": "code",
   "execution_count": 7,
   "outputs": [],
   "source": [
    "def add(x):\n",
    "    return x + 10"
   ],
   "metadata": {
    "collapsed": false
   }
  },
  {
   "cell_type": "code",
   "execution_count": 22,
   "outputs": [],
   "source": [
    "import numpy as  np\n",
    "import torch"
   ],
   "metadata": {
    "collapsed": false
   }
  },
  {
   "cell_type": "code",
   "execution_count": 13,
   "outputs": [],
   "source": [
    "x = np.ones(10)"
   ],
   "metadata": {
    "collapsed": false
   }
  },
  {
   "cell_type": "code",
   "execution_count": 24,
   "outputs": [],
   "source": [
    "tensor1 = torch.randn(3, 3, dtype=torch.float32, device='mps')"
   ],
   "metadata": {
    "collapsed": false
   }
  },
  {
   "cell_type": "code",
   "execution_count": 26,
   "outputs": [
    {
     "data": {
      "text/plain": "device(type='mps', index=0)"
     },
     "execution_count": 26,
     "metadata": {},
     "output_type": "execute_result"
    }
   ],
   "source": [
    "tensor1.device"
   ],
   "metadata": {
    "collapsed": false
   }
  },
  {
   "cell_type": "code",
   "execution_count": 9,
   "outputs": [],
   "source": [
    "f = lambda x:add(x)"
   ],
   "metadata": {
    "collapsed": false
   }
  },
  {
   "cell_type": "code",
   "execution_count": 18,
   "outputs": [
    {
     "ename": "AttributeError",
     "evalue": "type object 'Video_dataset' has no attribute 'to'",
     "output_type": "error",
     "traceback": [
      "\u001B[0;31m---------------------------------------------------------------------------\u001B[0m",
      "\u001B[0;31mAttributeError\u001B[0m                            Traceback (most recent call last)",
      "Cell \u001B[0;32mIn[18], line 1\u001B[0m\n\u001B[0;32m----> 1\u001B[0m x \u001B[38;5;241m=\u001B[39m\u001B[43mVideo_dataset\u001B[49m\u001B[38;5;241;43m.\u001B[39;49m\u001B[43mto\u001B[49m(\u001B[38;5;124m'\u001B[39m\u001B[38;5;124mmps\u001B[39m\u001B[38;5;124m'\u001B[39m)\n",
      "\u001B[0;31mAttributeError\u001B[0m: type object 'Video_dataset' has no attribute 'to'"
     ]
    }
   ],
   "source": [
    "frames, _, _ = T.io.read_video('./files/billiard_clip.mp4', output_format=\"TCHW\", pts_unit='sec')"
   ],
   "metadata": {
    "collapsed": false
   }
  },
  {
   "cell_type": "code",
   "execution_count": 15,
   "outputs": [],
   "source": [
    "ds = Video_dataset(frames)"
   ],
   "metadata": {
    "collapsed": false
   }
  },
  {
   "cell_type": "code",
   "execution_count": 16,
   "outputs": [],
   "source": [
    "dl = DataLoader(dataset=ds,batch_size=1)"
   ],
   "metadata": {
    "collapsed": false
   }
  },
  {
   "cell_type": "code",
   "execution_count": 19,
   "outputs": [
    {
     "ename": "AttributeError",
     "evalue": "'Video_dataset' object has no attribute 'to'",
     "output_type": "error",
     "traceback": [
      "\u001B[0;31m---------------------------------------------------------------------------\u001B[0m",
      "\u001B[0;31mAttributeError\u001B[0m                            Traceback (most recent call last)",
      "Cell \u001B[0;32mIn[19], line 1\u001B[0m\n\u001B[0;32m----> 1\u001B[0m \u001B[43mds\u001B[49m\u001B[38;5;241;43m.\u001B[39;49m\u001B[43mto\u001B[49m(device)\n",
      "\u001B[0;31mAttributeError\u001B[0m: 'Video_dataset' object has no attribute 'to'"
     ]
    }
   ],
   "source": [
    "next(iter(dl))['images'].shape"
   ],
   "metadata": {
    "collapsed": false
   }
  },
  {
   "cell_type": "code",
   "execution_count": 26,
   "outputs": [],
   "source": [
    "x = 'x'"
   ],
   "metadata": {
    "collapsed": false
   }
  },
  {
   "cell_type": "code",
   "execution_count": 27,
   "outputs": [],
   "source": [
    "m = 1 if x else None"
   ],
   "metadata": {
    "collapsed": false
   }
  },
  {
   "cell_type": "code",
   "execution_count": 4,
   "outputs": [],
   "source": [
    "m"
   ],
   "metadata": {
    "collapsed": false
   }
  },
  {
   "cell_type": "code",
   "execution_count": 31,
   "outputs": [
    {
     "name": "stdout",
     "output_type": "stream",
     "text": [
      "{'uflow': True, 'brox': False, 'wang': False, 'wang4': False, 'wangthres': False, 'wang4thres': False, 'fb_abs': False, 'forward_collision': False, 'backward_zero': False}\n",
      "{'uflow': False, 'brox': False, 'wang': False, 'wang4': False, 'wangthres': False, 'wang4thres': False, 'fb_abs': False, 'forward_collision': False, 'backward_zero': False}\n",
      "{'uflow': False, 'brox': True, 'wang': False, 'wang4': False, 'wangthres': False, 'wang4thres': False, 'fb_abs': False, 'forward_collision': False, 'backward_zero': False}\n",
      "{'uflow': False, 'brox': True, 'wang': True, 'wang4': False, 'wangthres': False, 'wang4thres': False, 'fb_abs': False, 'forward_collision': False, 'backward_zero': False}\n",
      "{'uflow': False, 'brox': True, 'wang': True, 'wang4': True, 'wangthres': False, 'wang4thres': False, 'fb_abs': False, 'forward_collision': False, 'backward_zero': False}\n",
      "{'uflow': False, 'brox': True, 'wang': True, 'wang4': True, 'wangthres': True, 'wang4thres': False, 'fb_abs': False, 'forward_collision': False, 'backward_zero': False}\n",
      "{'uflow': False, 'brox': True, 'wang': True, 'wang4': True, 'wangthres': True, 'wang4thres': True, 'fb_abs': False, 'forward_collision': False, 'backward_zero': False}\n",
      "{'uflow': False, 'brox': True, 'wang': True, 'wang4': True, 'wangthres': True, 'wang4thres': True, 'fb_abs': True, 'forward_collision': False, 'backward_zero': False}\n",
      "{'uflow': False, 'brox': True, 'wang': True, 'wang4': True, 'wangthres': True, 'wang4thres': True, 'fb_abs': True, 'forward_collision': True, 'backward_zero': False}\n",
      "{'uflow': False, 'brox': True, 'wang': True, 'wang4': True, 'wangthres': True, 'wang4thres': True, 'fb_abs': True, 'forward_collision': True, 'backward_zero': True}\n"
     ]
    }
   ],
   "source": [
    "for _ in range(10):\n",
    "    current_step  = _\n",
    "    occ = {\n",
    "          'uflow':\n",
    "               current_step== 0,\n",
    "          'brox':\n",
    "              current_step > 1,\n",
    "          'wang':\n",
    "              current_step > 2,\n",
    "          'wang4':\n",
    "              current_step > 3,\n",
    "          'wangthres':\n",
    "              current_step > 4,\n",
    "          'wang4thres':\n",
    "              current_step > 5,\n",
    "          'fb_abs':\n",
    "              current_step > 6,\n",
    "          'forward_collision':\n",
    "              current_step > 7,\n",
    "          'backward_zero':\n",
    "              current_step > 8,\n",
    "\n",
    "    }\n",
    "    print(occ\n",
    "          )"
   ],
   "metadata": {
    "collapsed": false
   }
  },
  {
   "cell_type": "code",
   "execution_count": null,
   "outputs": [],
   "source": [],
   "metadata": {
    "collapsed": false
   }
  }
 ],
 "metadata": {
  "kernelspec": {
   "name": "python3",
   "language": "python",
   "display_name": "Python 3 (ipykernel)"
  },
  "language_info": {
   "codemirror_mode": {
    "name": "ipython",
    "version": 2
   },
   "file_extension": ".py",
   "mimetype": "text/x-python",
   "name": "python",
   "nbconvert_exporter": "python",
   "pygments_lexer": "ipython2",
   "version": "2.7.6"
  }
 },
 "nbformat": 4,
 "nbformat_minor": 0
}
