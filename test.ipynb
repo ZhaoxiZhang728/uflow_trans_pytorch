{
 "cells": [
  {
   "cell_type": "code",
   "execution_count": 1,
   "metadata": {
    "collapsed": true,
    "pycharm": {
     "is_executing": true
    },
    "ExecuteTime": {
     "end_time": "2023-11-09T00:44:42.216075273Z",
     "start_time": "2023-11-09T00:44:41.304802177Z"
    }
   },
   "outputs": [],
   "source": [
    "from dataset.video_to_dataset import Video_dataset\n",
    "from torch.utils.data import DataLoader, random_split\n",
    "import torchvision as T\n",
    "import torch"
   ]
  },
  {
   "cell_type": "code",
   "execution_count": 2,
   "outputs": [],
   "source": [
    "x = dict()"
   ],
   "metadata": {
    "collapsed": false,
    "ExecuteTime": {
     "end_time": "2023-11-09T00:44:45.113239533Z",
     "start_time": "2023-11-09T00:44:45.110886856Z"
    }
   }
  },
  {
   "cell_type": "code",
   "execution_count": 3,
   "outputs": [],
   "source": [
    "x['1'] = None"
   ],
   "metadata": {
    "collapsed": false,
    "ExecuteTime": {
     "end_time": "2023-11-09T00:44:51.660187870Z",
     "start_time": "2023-11-09T00:44:51.655988479Z"
    }
   }
  },
  {
   "cell_type": "code",
   "execution_count": 5,
   "outputs": [],
   "source": [
    "h = torch.arange(0.0,12., 1)\n",
    "w = torch.arange(0.0, 12., 1)\n",
    "center_h = float(12. / 2.0 - 0.5)\n",
    "center_w = float(12. / 2.0 - 0.5)\n",
    "\n",
    "r = torch.stack(torch.meshgrid(h - center_h, w - center_w, indexing='ij'), -1).permute(2,0,1)"
   ],
   "metadata": {
    "collapsed": false
   }
  },
  {
   "cell_type": "code",
   "execution_count": 6,
   "outputs": [
    {
     "data": {
      "text/plain": "torch.Size([2, 12, 12])"
     },
     "execution_count": 6,
     "metadata": {},
     "output_type": "execute_result"
    }
   ],
   "source": [
    "r.shape"
   ],
   "metadata": {
    "collapsed": false
   }
  },
  {
   "cell_type": "code",
   "execution_count": 5,
   "outputs": [],
   "source": [
    "from torch.nn import LazyConv2d\n",
    "\n",
    "# Create an instance of LazyConv2d layer\n",
    "lazy_conv2d_layer = LazyConv2d(out_channels=64, kernel_size=3)\n",
    "\n",
    "# Freeze the LazyConv2d layer\n",
    "for param in lazy_conv2d_layer.parameters():\n",
    "    param.requires_grad = False"
   ],
   "metadata": {
    "collapsed": false,
    "ExecuteTime": {
     "end_time": "2023-10-31T22:27:30.935689700Z",
     "start_time": "2023-10-31T22:27:30.931800900Z"
    }
   }
  },
  {
   "cell_type": "code",
   "execution_count": 17,
   "outputs": [],
   "source": [
    "import torch.nn as nn"
   ],
   "metadata": {
    "collapsed": false
   }
  },
  {
   "cell_type": "code",
   "execution_count": 21,
   "outputs": [
    {
     "data": {
      "text/plain": "ModuleList(\n  (0): Identity()\n  (1): Linear(in_features=10, out_features=15, bias=True)\n  (2): Linear(in_features=15, out_features=20, bias=True)\n)"
     },
     "execution_count": 21,
     "metadata": {},
     "output_type": "execute_result"
    }
   ],
   "source": [
    "nn.ModuleList([nn.Identity(),nn.Linear(10,15),nn.Linear(15,20)])"
   ],
   "metadata": {
    "collapsed": false
   }
  },
  {
   "cell_type": "code",
   "execution_count": 7,
   "outputs": [],
   "source": [
    "def add(x):\n",
    "    return x + 10"
   ],
   "metadata": {
    "collapsed": false
   }
  },
  {
   "cell_type": "code",
   "execution_count": 22,
   "outputs": [],
   "source": [
    "import numpy as  np\n",
    "import torch"
   ],
   "metadata": {
    "collapsed": false
   }
  },
  {
   "cell_type": "code",
   "execution_count": 13,
   "outputs": [],
   "source": [
    "x = np.ones(10)"
   ],
   "metadata": {
    "collapsed": false
   }
  },
  {
   "cell_type": "code",
   "execution_count": 24,
   "outputs": [],
   "source": [
    "tensor1 = torch.randn(3, 3, dtype=torch.float32, device='mps')"
   ],
   "metadata": {
    "collapsed": false
   }
  },
  {
   "cell_type": "code",
   "execution_count": 26,
   "outputs": [
    {
     "data": {
      "text/plain": "device(type='mps', index=0)"
     },
     "execution_count": 26,
     "metadata": {},
     "output_type": "execute_result"
    }
   ],
   "source": [
    "tensor1.device"
   ],
   "metadata": {
    "collapsed": false
   }
  },
  {
   "cell_type": "code",
   "execution_count": 9,
   "outputs": [],
   "source": [
    "f = lambda x:add(x)"
   ],
   "metadata": {
    "collapsed": false
   }
  },
  {
   "cell_type": "code",
   "execution_count": 18,
   "outputs": [
    {
     "ename": "AttributeError",
     "evalue": "type object 'Video_dataset' has no attribute 'to'",
     "output_type": "error",
     "traceback": [
      "\u001B[0;31m---------------------------------------------------------------------------\u001B[0m",
      "\u001B[0;31mAttributeError\u001B[0m                            Traceback (most recent call last)",
      "Cell \u001B[0;32mIn[18], line 1\u001B[0m\n\u001B[0;32m----> 1\u001B[0m x \u001B[38;5;241m=\u001B[39m\u001B[43mVideo_dataset\u001B[49m\u001B[38;5;241;43m.\u001B[39;49m\u001B[43mto\u001B[49m(\u001B[38;5;124m'\u001B[39m\u001B[38;5;124mmps\u001B[39m\u001B[38;5;124m'\u001B[39m)\n",
      "\u001B[0;31mAttributeError\u001B[0m: type object 'Video_dataset' has no attribute 'to'"
     ]
    }
   ],
   "source": [
    "frames, _, _ = T.io.read_video('./files/billiard_clip.mp4', output_format=\"TCHW\", pts_unit='sec')"
   ],
   "metadata": {
    "collapsed": false
   }
  },
  {
   "cell_type": "code",
   "execution_count": 15,
   "outputs": [],
   "source": [
    "ds = Video_dataset(frames)"
   ],
   "metadata": {
    "collapsed": false
   }
  },
  {
   "cell_type": "code",
   "execution_count": 16,
   "outputs": [],
   "source": [
    "dl = DataLoader(dataset=ds,batch_size=1)"
   ],
   "metadata": {
    "collapsed": false
   }
  },
  {
   "cell_type": "code",
   "execution_count": 19,
   "outputs": [
    {
     "ename": "AttributeError",
     "evalue": "'Video_dataset' object has no attribute 'to'",
     "output_type": "error",
     "traceback": [
      "\u001B[0;31m---------------------------------------------------------------------------\u001B[0m",
      "\u001B[0;31mAttributeError\u001B[0m                            Traceback (most recent call last)",
      "Cell \u001B[0;32mIn[19], line 1\u001B[0m\n\u001B[0;32m----> 1\u001B[0m \u001B[43mds\u001B[49m\u001B[38;5;241;43m.\u001B[39;49m\u001B[43mto\u001B[49m(device)\n",
      "\u001B[0;31mAttributeError\u001B[0m: 'Video_dataset' object has no attribute 'to'"
     ]
    }
   ],
   "source": [
    "next(iter(dl))['images'].shape"
   ],
   "metadata": {
    "collapsed": false
   }
  },
  {
   "cell_type": "code",
   "execution_count": 26,
   "outputs": [],
   "source": [
    "x = 'x'"
   ],
   "metadata": {
    "collapsed": false
   }
  },
  {
   "cell_type": "code",
   "execution_count": 27,
   "outputs": [],
   "source": [
    "m = 1 if x else None"
   ],
   "metadata": {
    "collapsed": false
   }
  },
  {
   "cell_type": "code",
   "execution_count": 4,
   "outputs": [],
   "source": [
    "m"
   ],
   "metadata": {
    "collapsed": false
   }
  },
  {
   "cell_type": "code",
   "execution_count": 31,
   "outputs": [
    {
     "name": "stdout",
     "output_type": "stream",
     "text": [
      "{'uflow': True, 'brox': False, 'wang': False, 'wang4': False, 'wangthres': False, 'wang4thres': False, 'fb_abs': False, 'forward_collision': False, 'backward_zero': False}\n",
      "{'uflow': False, 'brox': False, 'wang': False, 'wang4': False, 'wangthres': False, 'wang4thres': False, 'fb_abs': False, 'forward_collision': False, 'backward_zero': False}\n",
      "{'uflow': False, 'brox': True, 'wang': False, 'wang4': False, 'wangthres': False, 'wang4thres': False, 'fb_abs': False, 'forward_collision': False, 'backward_zero': False}\n",
      "{'uflow': False, 'brox': True, 'wang': True, 'wang4': False, 'wangthres': False, 'wang4thres': False, 'fb_abs': False, 'forward_collision': False, 'backward_zero': False}\n",
      "{'uflow': False, 'brox': True, 'wang': True, 'wang4': True, 'wangthres': False, 'wang4thres': False, 'fb_abs': False, 'forward_collision': False, 'backward_zero': False}\n",
      "{'uflow': False, 'brox': True, 'wang': True, 'wang4': True, 'wangthres': True, 'wang4thres': False, 'fb_abs': False, 'forward_collision': False, 'backward_zero': False}\n",
      "{'uflow': False, 'brox': True, 'wang': True, 'wang4': True, 'wangthres': True, 'wang4thres': True, 'fb_abs': False, 'forward_collision': False, 'backward_zero': False}\n",
      "{'uflow': False, 'brox': True, 'wang': True, 'wang4': True, 'wangthres': True, 'wang4thres': True, 'fb_abs': True, 'forward_collision': False, 'backward_zero': False}\n",
      "{'uflow': False, 'brox': True, 'wang': True, 'wang4': True, 'wangthres': True, 'wang4thres': True, 'fb_abs': True, 'forward_collision': True, 'backward_zero': False}\n",
      "{'uflow': False, 'brox': True, 'wang': True, 'wang4': True, 'wangthres': True, 'wang4thres': True, 'fb_abs': True, 'forward_collision': True, 'backward_zero': True}\n"
     ]
    }
   ],
   "source": [
    "for _ in range(10):\n",
    "    current_step  = _\n",
    "    occ = {\n",
    "          'uflow':\n",
    "               current_step== 0,\n",
    "          'brox':\n",
    "              current_step > 1,\n",
    "          'wang':\n",
    "              current_step > 2,\n",
    "          'wang4':\n",
    "              current_step > 3,\n",
    "          'wangthres':\n",
    "              current_step > 4,\n",
    "          'wang4thres':\n",
    "              current_step > 5,\n",
    "          'fb_abs':\n",
    "              current_step > 6,\n",
    "          'forward_collision':\n",
    "              current_step > 7,\n",
    "          'backward_zero':\n",
    "              current_step > 8,\n",
    "\n",
    "    }\n",
    "    print(occ\n",
    "          )"
   ],
   "metadata": {
    "collapsed": false
   }
  },
  {
   "cell_type": "code",
   "execution_count": 1,
   "outputs": [],
   "source": [
    "import pandas as pd"
   ],
   "metadata": {
    "collapsed": false,
    "ExecuteTime": {
     "end_time": "2023-11-07T22:20:03.906896702Z",
     "start_time": "2023-11-07T22:20:03.784313947Z"
    }
   }
  },
  {
   "cell_type": "code",
   "execution_count": 3,
   "outputs": [],
   "source": [
    "x = pd.read_csv('./result/checkpoint/lightning_logs/version_0/metrics.csv')"
   ],
   "metadata": {
    "collapsed": false,
    "ExecuteTime": {
     "end_time": "2023-11-07T22:22:56.663636137Z",
     "start_time": "2023-11-07T22:22:56.622413277Z"
    }
   }
  },
  {
   "cell_type": "code",
   "execution_count": 4,
   "outputs": [
    {
     "data": {
      "text/plain": "     train-loss  epoch   step  val-loss  test-loss\n0      3.478653      0     49       NaN        NaN\n1      3.623976      0     99       NaN        NaN\n2      3.735771      0    149       NaN        NaN\n3      3.753191      0    199       NaN        NaN\n4      3.428201      0    249       NaN        NaN\n..          ...    ...    ...       ...        ...\n218    3.774676      9  10499       NaN        NaN\n219    3.710671      9  10549       NaN        NaN\n220    3.691602      9  10599       NaN        NaN\n221         NaN      9  10639  3.796381        NaN\n222         NaN     10  10640       NaN   3.797354\n\n[223 rows x 5 columns]",
      "text/html": "<div>\n<style scoped>\n    .dataframe tbody tr th:only-of-type {\n        vertical-align: middle;\n    }\n\n    .dataframe tbody tr th {\n        vertical-align: top;\n    }\n\n    .dataframe thead th {\n        text-align: right;\n    }\n</style>\n<table border=\"1\" class=\"dataframe\">\n  <thead>\n    <tr style=\"text-align: right;\">\n      <th></th>\n      <th>train-loss</th>\n      <th>epoch</th>\n      <th>step</th>\n      <th>val-loss</th>\n      <th>test-loss</th>\n    </tr>\n  </thead>\n  <tbody>\n    <tr>\n      <th>0</th>\n      <td>3.478653</td>\n      <td>0</td>\n      <td>49</td>\n      <td>NaN</td>\n      <td>NaN</td>\n    </tr>\n    <tr>\n      <th>1</th>\n      <td>3.623976</td>\n      <td>0</td>\n      <td>99</td>\n      <td>NaN</td>\n      <td>NaN</td>\n    </tr>\n    <tr>\n      <th>2</th>\n      <td>3.735771</td>\n      <td>0</td>\n      <td>149</td>\n      <td>NaN</td>\n      <td>NaN</td>\n    </tr>\n    <tr>\n      <th>3</th>\n      <td>3.753191</td>\n      <td>0</td>\n      <td>199</td>\n      <td>NaN</td>\n      <td>NaN</td>\n    </tr>\n    <tr>\n      <th>4</th>\n      <td>3.428201</td>\n      <td>0</td>\n      <td>249</td>\n      <td>NaN</td>\n      <td>NaN</td>\n    </tr>\n    <tr>\n      <th>...</th>\n      <td>...</td>\n      <td>...</td>\n      <td>...</td>\n      <td>...</td>\n      <td>...</td>\n    </tr>\n    <tr>\n      <th>218</th>\n      <td>3.774676</td>\n      <td>9</td>\n      <td>10499</td>\n      <td>NaN</td>\n      <td>NaN</td>\n    </tr>\n    <tr>\n      <th>219</th>\n      <td>3.710671</td>\n      <td>9</td>\n      <td>10549</td>\n      <td>NaN</td>\n      <td>NaN</td>\n    </tr>\n    <tr>\n      <th>220</th>\n      <td>3.691602</td>\n      <td>9</td>\n      <td>10599</td>\n      <td>NaN</td>\n      <td>NaN</td>\n    </tr>\n    <tr>\n      <th>221</th>\n      <td>NaN</td>\n      <td>9</td>\n      <td>10639</td>\n      <td>3.796381</td>\n      <td>NaN</td>\n    </tr>\n    <tr>\n      <th>222</th>\n      <td>NaN</td>\n      <td>10</td>\n      <td>10640</td>\n      <td>NaN</td>\n      <td>3.797354</td>\n    </tr>\n  </tbody>\n</table>\n<p>223 rows × 5 columns</p>\n</div>"
     },
     "execution_count": 4,
     "metadata": {},
     "output_type": "execute_result"
    }
   ],
   "source": [
    "x"
   ],
   "metadata": {
    "collapsed": false,
    "ExecuteTime": {
     "end_time": "2023-11-07T22:22:58.262103224Z",
     "start_time": "2023-11-07T22:22:58.227562320Z"
    }
   }
  },
  {
   "cell_type": "code",
   "execution_count": null,
   "outputs": [],
   "source": [],
   "metadata": {
    "collapsed": false
   }
  }
 ],
 "metadata": {
  "kernelspec": {
   "name": "python3",
   "language": "python",
   "display_name": "Python 3 (ipykernel)"
  },
  "language_info": {
   "codemirror_mode": {
    "name": "ipython",
    "version": 2
   },
   "file_extension": ".py",
   "mimetype": "text/x-python",
   "name": "python",
   "nbconvert_exporter": "python",
   "pygments_lexer": "ipython2",
   "version": "2.7.6"
  }
 },
 "nbformat": 4,
 "nbformat_minor": 0
}
